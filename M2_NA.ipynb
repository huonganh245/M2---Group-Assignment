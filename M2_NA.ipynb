{
  "nbformat": 4,
  "nbformat_minor": 0,
  "metadata": {
    "colab": {
      "name": "ver7-M2-Group Assignment",
      "provenance": [],
      "collapsed_sections": [],
      "machine_shape": "hm"
    },
    "kernelspec": {
      "name": "python3",
      "display_name": "Python 3"
    }
  },
  "cells": [
    {
      "cell_type": "code",
      "metadata": {
        "id": "R3KWy8WncQMS",
        "colab_type": "code",
        "outputId": "d79cf6f8-1407-4779-b249-e4406b3ef2a9",
        "colab": {
          "base_uri": "https://localhost:8080/",
          "height": 544
        }
      },
      "source": [
        "#load the data by installing gdown\n",
        "import os.path as path\n",
        "if not path.exists('food-com-recipes-and-user-interactions.zip'):\n",
        "  !pip install gdown\n",
        "  !gdown https://drive.google.com/uc?id=1CK99ASX3fsQ_KBY_RP7Nqms6dwsNs-jb\n",
        "  !unzip food-com-recipes-and-user-interactions.zip\n",
        "else :\n",
        "  print('data is in places')"
      ],
      "execution_count": 1,
      "outputs": [
        {
          "output_type": "stream",
          "text": [
            "Requirement already satisfied: gdown in /usr/local/lib/python3.6/dist-packages (3.6.4)\n",
            "Requirement already satisfied: requests in /usr/local/lib/python3.6/dist-packages (from gdown) (2.21.0)\n",
            "Requirement already satisfied: tqdm in /usr/local/lib/python3.6/dist-packages (from gdown) (4.28.1)\n",
            "Requirement already satisfied: six in /usr/local/lib/python3.6/dist-packages (from gdown) (1.12.0)\n",
            "Requirement already satisfied: urllib3<1.25,>=1.21.1 in /usr/local/lib/python3.6/dist-packages (from requests->gdown) (1.24.3)\n",
            "Requirement already satisfied: chardet<3.1.0,>=3.0.2 in /usr/local/lib/python3.6/dist-packages (from requests->gdown) (3.0.4)\n",
            "Requirement already satisfied: certifi>=2017.4.17 in /usr/local/lib/python3.6/dist-packages (from requests->gdown) (2019.9.11)\n",
            "Requirement already satisfied: idna<2.9,>=2.5 in /usr/local/lib/python3.6/dist-packages (from requests->gdown) (2.8)\n",
            "Downloading...\n",
            "From: https://drive.google.com/uc?id=1CK99ASX3fsQ_KBY_RP7Nqms6dwsNs-jb\n",
            "To: /content/food-com-recipes-and-user-interactions.zip\n",
            "275MB [00:02, 121MB/s]\n",
            "Archive:  food-com-recipes-and-user-interactions.zip\n",
            "  inflating: ingr_map.pkl            \n",
            "  inflating: __MACOSX/._ingr_map.pkl  \n",
            "  inflating: interactions_test.csv   \n",
            "  inflating: __MACOSX/._interactions_test.csv  \n",
            "  inflating: interactions_train.csv  \n",
            "  inflating: __MACOSX/._interactions_train.csv  \n",
            "  inflating: interactions_validation.csv  \n",
            "  inflating: __MACOSX/._interactions_validation.csv  \n",
            "  inflating: new_data.csv            \n",
            "  inflating: __MACOSX/._new_data.csv  \n",
            "  inflating: PP_recipes.csv          \n",
            "  inflating: __MACOSX/._PP_recipes.csv  \n",
            "  inflating: PP_users.csv            \n",
            "  inflating: __MACOSX/._PP_users.csv  \n",
            "  inflating: RAW_interactions.csv    \n",
            "  inflating: __MACOSX/._RAW_interactions.csv  \n",
            "  inflating: RAW_recipes.csv         \n",
            "  inflating: __MACOSX/._RAW_recipes.csv  \n"
          ],
          "name": "stdout"
        }
      ]
    },
    {
      "cell_type": "code",
      "metadata": {
        "id": "vri9qVyTdsdO",
        "colab_type": "code",
        "colab": {}
      },
      "source": [
        "#Load packages \n",
        "import pandas as pd\n",
        "import numpy as np\n",
        "import networkx as nx\n",
        "from networkx.algorithms import bipartite\n",
        "import matplotlib.pyplot as plt\n",
        "from collections import Counter\n",
        "from datetime import datetime\n",
        "from datetime import timedelta\n",
        "import community\n",
        "import itertools"
      ],
      "execution_count": 0,
      "outputs": []
    },
    {
      "cell_type": "code",
      "metadata": {
        "id": "zXro4_ZeNzv6",
        "colab_type": "code",
        "outputId": "055682e6-8a18-456c-80f6-c024442c24f2",
        "colab": {
          "base_uri": "https://localhost:8080/",
          "height": 204
        }
      },
      "source": [
        "#import the data and inspect it\n",
        "df_in = pd.read_csv('RAW_interactions.csv')\n",
        "df_in.head()"
      ],
      "execution_count": 3,
      "outputs": [
        {
          "output_type": "execute_result",
          "data": {
            "text/html": [
              "<div>\n",
              "<style scoped>\n",
              "    .dataframe tbody tr th:only-of-type {\n",
              "        vertical-align: middle;\n",
              "    }\n",
              "\n",
              "    .dataframe tbody tr th {\n",
              "        vertical-align: top;\n",
              "    }\n",
              "\n",
              "    .dataframe thead th {\n",
              "        text-align: right;\n",
              "    }\n",
              "</style>\n",
              "<table border=\"1\" class=\"dataframe\">\n",
              "  <thead>\n",
              "    <tr style=\"text-align: right;\">\n",
              "      <th></th>\n",
              "      <th>user_id</th>\n",
              "      <th>recipe_id</th>\n",
              "      <th>date</th>\n",
              "      <th>rating</th>\n",
              "      <th>review</th>\n",
              "    </tr>\n",
              "  </thead>\n",
              "  <tbody>\n",
              "    <tr>\n",
              "      <th>0</th>\n",
              "      <td>38094</td>\n",
              "      <td>40893</td>\n",
              "      <td>2003-02-17</td>\n",
              "      <td>4</td>\n",
              "      <td>Great with a salad. Cooked on top of stove for...</td>\n",
              "    </tr>\n",
              "    <tr>\n",
              "      <th>1</th>\n",
              "      <td>1293707</td>\n",
              "      <td>40893</td>\n",
              "      <td>2011-12-21</td>\n",
              "      <td>5</td>\n",
              "      <td>So simple, so delicious! Great for chilly fall...</td>\n",
              "    </tr>\n",
              "    <tr>\n",
              "      <th>2</th>\n",
              "      <td>8937</td>\n",
              "      <td>44394</td>\n",
              "      <td>2002-12-01</td>\n",
              "      <td>4</td>\n",
              "      <td>This worked very well and is EASY.  I used not...</td>\n",
              "    </tr>\n",
              "    <tr>\n",
              "      <th>3</th>\n",
              "      <td>126440</td>\n",
              "      <td>85009</td>\n",
              "      <td>2010-02-27</td>\n",
              "      <td>5</td>\n",
              "      <td>I made the Mexican topping and took it to bunk...</td>\n",
              "    </tr>\n",
              "    <tr>\n",
              "      <th>4</th>\n",
              "      <td>57222</td>\n",
              "      <td>85009</td>\n",
              "      <td>2011-10-01</td>\n",
              "      <td>5</td>\n",
              "      <td>Made the cheddar bacon topping, adding a sprin...</td>\n",
              "    </tr>\n",
              "  </tbody>\n",
              "</table>\n",
              "</div>"
            ],
            "text/plain": [
              "   user_id  ...                                             review\n",
              "0    38094  ...  Great with a salad. Cooked on top of stove for...\n",
              "1  1293707  ...  So simple, so delicious! Great for chilly fall...\n",
              "2     8937  ...  This worked very well and is EASY.  I used not...\n",
              "3   126440  ...  I made the Mexican topping and took it to bunk...\n",
              "4    57222  ...  Made the cheddar bacon topping, adding a sprin...\n",
              "\n",
              "[5 rows x 5 columns]"
            ]
          },
          "metadata": {
            "tags": []
          },
          "execution_count": 3
        }
      ]
    },
    {
      "cell_type": "code",
      "metadata": {
        "id": "L184VoWmzuFq",
        "colab_type": "code",
        "colab": {}
      },
      "source": [
        "#change rating to decimal\n",
        "df_in['w'] = df_in.apply(lambda x: 0 if x['rating'] == 0 else x['rating'] / 5, axis=1)"
      ],
      "execution_count": 0,
      "outputs": []
    },
    {
      "cell_type": "code",
      "metadata": {
        "id": "vwWv9UTDGila",
        "colab_type": "code",
        "outputId": "d4071838-93ba-4f4e-9340-7fd33c06effc",
        "colab": {
          "base_uri": "https://localhost:8080/",
          "height": 204
        }
      },
      "source": [
        "#change date to datetime\n",
        "df_in['date'] = pd.to_datetime(df_in['date'], errors = 'coerce')\n",
        "#filter the df from mid of 2018 until now to be more \"notebook-friendly\" as the original one is too big (more than 1 million rows)\n",
        "start_date = '06-01-2018'\n",
        "date_filter = (df_in['date'] > start_date)\n",
        "df_int = df_in.loc[date_filter]\n",
        "df_int.head()"
      ],
      "execution_count": 5,
      "outputs": [
        {
          "output_type": "execute_result",
          "data": {
            "text/html": [
              "<div>\n",
              "<style scoped>\n",
              "    .dataframe tbody tr th:only-of-type {\n",
              "        vertical-align: middle;\n",
              "    }\n",
              "\n",
              "    .dataframe tbody tr th {\n",
              "        vertical-align: top;\n",
              "    }\n",
              "\n",
              "    .dataframe thead th {\n",
              "        text-align: right;\n",
              "    }\n",
              "</style>\n",
              "<table border=\"1\" class=\"dataframe\">\n",
              "  <thead>\n",
              "    <tr style=\"text-align: right;\">\n",
              "      <th></th>\n",
              "      <th>user_id</th>\n",
              "      <th>recipe_id</th>\n",
              "      <th>date</th>\n",
              "      <th>rating</th>\n",
              "      <th>review</th>\n",
              "      <th>w</th>\n",
              "    </tr>\n",
              "  </thead>\n",
              "  <tbody>\n",
              "    <tr>\n",
              "      <th>200</th>\n",
              "      <td>2000551249</td>\n",
              "      <td>195977</td>\n",
              "      <td>2018-07-11</td>\n",
              "      <td>5</td>\n",
              "      <td>We have substituted a lemon cake mix for the y...</td>\n",
              "      <td>1.0</td>\n",
              "    </tr>\n",
              "    <tr>\n",
              "      <th>201</th>\n",
              "      <td>2002265401</td>\n",
              "      <td>195977</td>\n",
              "      <td>2018-09-03</td>\n",
              "      <td>2</td>\n",
              "      <td>I will start by saying that I followed the rec...</td>\n",
              "      <td>0.4</td>\n",
              "    </tr>\n",
              "    <tr>\n",
              "      <th>202</th>\n",
              "      <td>2001205226</td>\n",
              "      <td>195977</td>\n",
              "      <td>2018-11-03</td>\n",
              "      <td>5</td>\n",
              "      <td>This is an exceptionally tasty cake! Very swee...</td>\n",
              "      <td>1.0</td>\n",
              "    </tr>\n",
              "    <tr>\n",
              "      <th>250</th>\n",
              "      <td>615758</td>\n",
              "      <td>373842</td>\n",
              "      <td>2018-06-24</td>\n",
              "      <td>5</td>\n",
              "      <td>Made this for dinner last night and had it for...</td>\n",
              "      <td>1.0</td>\n",
              "    </tr>\n",
              "    <tr>\n",
              "      <th>276</th>\n",
              "      <td>246482</td>\n",
              "      <td>217012</td>\n",
              "      <td>2018-07-04</td>\n",
              "      <td>4</td>\n",
              "      <td>Very nice I got 18 muffins out of it but I thi...</td>\n",
              "      <td>0.8</td>\n",
              "    </tr>\n",
              "  </tbody>\n",
              "</table>\n",
              "</div>"
            ],
            "text/plain": [
              "        user_id  ...    w\n",
              "200  2000551249  ...  1.0\n",
              "201  2002265401  ...  0.4\n",
              "202  2001205226  ...  1.0\n",
              "250      615758  ...  1.0\n",
              "276      246482  ...  0.8\n",
              "\n",
              "[5 rows x 6 columns]"
            ]
          },
          "metadata": {
            "tags": []
          },
          "execution_count": 5
        }
      ]
    },
    {
      "cell_type": "code",
      "metadata": {
        "id": "5V5wZ6cqwLne",
        "colab_type": "code",
        "outputId": "8a28155c-384e-4bff-e117-562559b7e645",
        "colab": {
          "base_uri": "https://localhost:8080/",
          "height": 473
        }
      },
      "source": [
        "#Do the same with the other dataframe \"recipe\"\n",
        "df_re = pd.read_csv('RAW_recipes.csv')\n",
        "df_re.rename(columns={'id':'recipe_id'}, inplace=True)\n",
        "df_re.set_index('recipe_id', inplace=True)\n",
        "df_re.head()"
      ],
      "execution_count": 6,
      "outputs": [
        {
          "output_type": "execute_result",
          "data": {
            "text/html": [
              "<div>\n",
              "<style scoped>\n",
              "    .dataframe tbody tr th:only-of-type {\n",
              "        vertical-align: middle;\n",
              "    }\n",
              "\n",
              "    .dataframe tbody tr th {\n",
              "        vertical-align: top;\n",
              "    }\n",
              "\n",
              "    .dataframe thead th {\n",
              "        text-align: right;\n",
              "    }\n",
              "</style>\n",
              "<table border=\"1\" class=\"dataframe\">\n",
              "  <thead>\n",
              "    <tr style=\"text-align: right;\">\n",
              "      <th></th>\n",
              "      <th>name</th>\n",
              "      <th>minutes</th>\n",
              "      <th>contributor_id</th>\n",
              "      <th>submitted</th>\n",
              "      <th>tags</th>\n",
              "      <th>nutrition</th>\n",
              "      <th>n_steps</th>\n",
              "      <th>steps</th>\n",
              "      <th>description</th>\n",
              "      <th>ingredients</th>\n",
              "      <th>n_ingredients</th>\n",
              "    </tr>\n",
              "    <tr>\n",
              "      <th>recipe_id</th>\n",
              "      <th></th>\n",
              "      <th></th>\n",
              "      <th></th>\n",
              "      <th></th>\n",
              "      <th></th>\n",
              "      <th></th>\n",
              "      <th></th>\n",
              "      <th></th>\n",
              "      <th></th>\n",
              "      <th></th>\n",
              "      <th></th>\n",
              "    </tr>\n",
              "  </thead>\n",
              "  <tbody>\n",
              "    <tr>\n",
              "      <th>137739</th>\n",
              "      <td>arriba   baked winter squash mexican style</td>\n",
              "      <td>55</td>\n",
              "      <td>47892</td>\n",
              "      <td>2005-09-16</td>\n",
              "      <td>['60-minutes-or-less', 'time-to-make', 'course...</td>\n",
              "      <td>[51.5, 0.0, 13.0, 0.0, 2.0, 0.0, 4.0]</td>\n",
              "      <td>11</td>\n",
              "      <td>['make a choice and proceed with recipe', 'dep...</td>\n",
              "      <td>autumn is my favorite time of year to cook! th...</td>\n",
              "      <td>['winter squash', 'mexican seasoning', 'mixed ...</td>\n",
              "      <td>7</td>\n",
              "    </tr>\n",
              "    <tr>\n",
              "      <th>31490</th>\n",
              "      <td>a bit different  breakfast pizza</td>\n",
              "      <td>30</td>\n",
              "      <td>26278</td>\n",
              "      <td>2002-06-17</td>\n",
              "      <td>['30-minutes-or-less', 'time-to-make', 'course...</td>\n",
              "      <td>[173.4, 18.0, 0.0, 17.0, 22.0, 35.0, 1.0]</td>\n",
              "      <td>9</td>\n",
              "      <td>['preheat oven to 425 degrees f', 'press dough...</td>\n",
              "      <td>this recipe calls for the crust to be prebaked...</td>\n",
              "      <td>['prepared pizza crust', 'sausage patty', 'egg...</td>\n",
              "      <td>6</td>\n",
              "    </tr>\n",
              "    <tr>\n",
              "      <th>112140</th>\n",
              "      <td>all in the kitchen  chili</td>\n",
              "      <td>130</td>\n",
              "      <td>196586</td>\n",
              "      <td>2005-02-25</td>\n",
              "      <td>['time-to-make', 'course', 'preparation', 'mai...</td>\n",
              "      <td>[269.8, 22.0, 32.0, 48.0, 39.0, 27.0, 5.0]</td>\n",
              "      <td>6</td>\n",
              "      <td>['brown ground beef in large pot', 'add choppe...</td>\n",
              "      <td>this modified version of 'mom's' chili was a h...</td>\n",
              "      <td>['ground beef', 'yellow onions', 'diced tomato...</td>\n",
              "      <td>13</td>\n",
              "    </tr>\n",
              "    <tr>\n",
              "      <th>59389</th>\n",
              "      <td>alouette  potatoes</td>\n",
              "      <td>45</td>\n",
              "      <td>68585</td>\n",
              "      <td>2003-04-14</td>\n",
              "      <td>['60-minutes-or-less', 'time-to-make', 'course...</td>\n",
              "      <td>[368.1, 17.0, 10.0, 2.0, 14.0, 8.0, 20.0]</td>\n",
              "      <td>11</td>\n",
              "      <td>['place potatoes in a large pot of lightly sal...</td>\n",
              "      <td>this is a super easy, great tasting, make ahea...</td>\n",
              "      <td>['spreadable cheese with garlic and herbs', 'n...</td>\n",
              "      <td>11</td>\n",
              "    </tr>\n",
              "    <tr>\n",
              "      <th>44061</th>\n",
              "      <td>amish  tomato ketchup  for canning</td>\n",
              "      <td>190</td>\n",
              "      <td>41706</td>\n",
              "      <td>2002-10-25</td>\n",
              "      <td>['weeknight', 'time-to-make', 'course', 'main-...</td>\n",
              "      <td>[352.9, 1.0, 337.0, 23.0, 3.0, 0.0, 28.0]</td>\n",
              "      <td>5</td>\n",
              "      <td>['mix all ingredients&amp; boil for 2 1 / 2 hours ...</td>\n",
              "      <td>my dh's amish mother raised him on this recipe...</td>\n",
              "      <td>['tomato juice', 'apple cider vinegar', 'sugar...</td>\n",
              "      <td>8</td>\n",
              "    </tr>\n",
              "  </tbody>\n",
              "</table>\n",
              "</div>"
            ],
            "text/plain": [
              "                                                 name  ...  n_ingredients\n",
              "recipe_id                                              ...               \n",
              "137739     arriba   baked winter squash mexican style  ...              7\n",
              "31490                a bit different  breakfast pizza  ...              6\n",
              "112140                      all in the kitchen  chili  ...             13\n",
              "59389                              alouette  potatoes  ...             11\n",
              "44061              amish  tomato ketchup  for canning  ...              8\n",
              "\n",
              "[5 rows x 11 columns]"
            ]
          },
          "metadata": {
            "tags": []
          },
          "execution_count": 6
        }
      ]
    },
    {
      "cell_type": "code",
      "metadata": {
        "id": "uzOJKDTCR7VX",
        "colab_type": "code",
        "outputId": "fbc4536b-6d48-4c43-9ad6-24d8370d929a",
        "colab": {
          "base_uri": "https://localhost:8080/",
          "height": 473
        }
      },
      "source": [
        "df_re['submitted'] = pd.to_datetime(df_re['submitted'], errors = 'coerce')\n",
        "start_date = '06-01-2018'\n",
        "date_filter = (df_re['submitted'] > start_date)\n",
        "df_rep = df_re.loc[date_filter]\n",
        "df_rep.head()"
      ],
      "execution_count": 7,
      "outputs": [
        {
          "output_type": "execute_result",
          "data": {
            "text/html": [
              "<div>\n",
              "<style scoped>\n",
              "    .dataframe tbody tr th:only-of-type {\n",
              "        vertical-align: middle;\n",
              "    }\n",
              "\n",
              "    .dataframe tbody tr th {\n",
              "        vertical-align: top;\n",
              "    }\n",
              "\n",
              "    .dataframe thead th {\n",
              "        text-align: right;\n",
              "    }\n",
              "</style>\n",
              "<table border=\"1\" class=\"dataframe\">\n",
              "  <thead>\n",
              "    <tr style=\"text-align: right;\">\n",
              "      <th></th>\n",
              "      <th>name</th>\n",
              "      <th>minutes</th>\n",
              "      <th>contributor_id</th>\n",
              "      <th>submitted</th>\n",
              "      <th>tags</th>\n",
              "      <th>nutrition</th>\n",
              "      <th>n_steps</th>\n",
              "      <th>steps</th>\n",
              "      <th>description</th>\n",
              "      <th>ingredients</th>\n",
              "      <th>n_ingredients</th>\n",
              "    </tr>\n",
              "    <tr>\n",
              "      <th>recipe_id</th>\n",
              "      <th></th>\n",
              "      <th></th>\n",
              "      <th></th>\n",
              "      <th></th>\n",
              "      <th></th>\n",
              "      <th></th>\n",
              "      <th></th>\n",
              "      <th></th>\n",
              "      <th></th>\n",
              "      <th></th>\n",
              "      <th></th>\n",
              "    </tr>\n",
              "  </thead>\n",
              "  <tbody>\n",
              "    <tr>\n",
              "      <th>537485</th>\n",
              "      <td>5 ingredient salted caramel crumble bars</td>\n",
              "      <td>45</td>\n",
              "      <td>2000378667</td>\n",
              "      <td>2018-11-12</td>\n",
              "      <td>['60-minutes-or-less', 'time-to-make', 'course...</td>\n",
              "      <td>[52.8, 3.0, 0.0, 4.0, 1.0, 1.0, 2.0]</td>\n",
              "      <td>21</td>\n",
              "      <td>['1', 'heat oven to 350f spray 8-inch square p...</td>\n",
              "      <td>delicious</td>\n",
              "      <td>['pillsbury sugar cookie dough', 'caramel topp...</td>\n",
              "      <td>5</td>\n",
              "    </tr>\n",
              "    <tr>\n",
              "      <th>536322</th>\n",
              "      <td>amish peanut butter</td>\n",
              "      <td>45</td>\n",
              "      <td>1052873</td>\n",
              "      <td>2018-07-15</td>\n",
              "      <td>['60-minutes-or-less', 'time-to-make', 'course...</td>\n",
              "      <td>[253.5, 16.0, 107.0, 4.0, 11.0, 11.0, 12.0]</td>\n",
              "      <td>7</td>\n",
              "      <td>['in large saucepan over medium heat , combine...</td>\n",
              "      <td>super sweet peanut butter spread</td>\n",
              "      <td>['brown sugar', 'water', 'corn syrup', 'maple ...</td>\n",
              "      <td>6</td>\n",
              "    </tr>\n",
              "    <tr>\n",
              "      <th>536384</th>\n",
              "      <td>amish triple butter biscuits</td>\n",
              "      <td>40</td>\n",
              "      <td>219942</td>\n",
              "      <td>2018-07-19</td>\n",
              "      <td>['60-minutes-or-less', 'time-to-make', 'course...</td>\n",
              "      <td>[410.5, 38.0, 6.0, 23.0, 13.0, 77.0, 13.0]</td>\n",
              "      <td>9</td>\n",
              "      <td>['pre-heat the oven to 425 degrees', 'while ov...</td>\n",
              "      <td>the way she describes these biscuits on her we...</td>\n",
              "      <td>['flour', 'salt', 'cream of tartar', 'sugar', ...</td>\n",
              "      <td>8</td>\n",
              "    </tr>\n",
              "    <tr>\n",
              "      <th>536318</th>\n",
              "      <td>argentine chili</td>\n",
              "      <td>50</td>\n",
              "      <td>400708</td>\n",
              "      <td>2018-07-15</td>\n",
              "      <td>['60-minutes-or-less', 'time-to-make', 'course...</td>\n",
              "      <td>[664.8, 67.0, 14.0, 42.0, 112.0, 82.0, 3.0]</td>\n",
              "      <td>8</td>\n",
              "      <td>['heat a heavy pot or dutch oven over high hea...</td>\n",
              "      <td>an argentina influenced chili by rachel ray to...</td>\n",
              "      <td>['olive oil', 'lean ground sirloin', 'chorizo ...</td>\n",
              "      <td>12</td>\n",
              "    </tr>\n",
              "    <tr>\n",
              "      <th>536401</th>\n",
              "      <td>argentinian steak sandwiches</td>\n",
              "      <td>25</td>\n",
              "      <td>47559</td>\n",
              "      <td>2018-07-21</td>\n",
              "      <td>['30-minutes-or-less', 'time-to-make', 'course...</td>\n",
              "      <td>[573.7, 62.0, 9.0, 13.0, 57.0, 47.0, 8.0]</td>\n",
              "      <td>11</td>\n",
              "      <td>['to make chimichurri sauce , combine all ingr...</td>\n",
              "      <td>a simple and quick hearty sandwich with loads ...</td>\n",
              "      <td>['beef sirloin steaks', 'olive oil', 'salt and...</td>\n",
              "      <td>15</td>\n",
              "    </tr>\n",
              "  </tbody>\n",
              "</table>\n",
              "</div>"
            ],
            "text/plain": [
              "                                               name  ...  n_ingredients\n",
              "recipe_id                                            ...               \n",
              "537485     5 ingredient salted caramel crumble bars  ...              5\n",
              "536322                          amish peanut butter  ...              6\n",
              "536384                 amish triple butter biscuits  ...              8\n",
              "536318                              argentine chili  ...             12\n",
              "536401                 argentinian steak sandwiches  ...             15\n",
              "\n",
              "[5 rows x 11 columns]"
            ]
          },
          "metadata": {
            "tags": []
          },
          "execution_count": 7
        }
      ]
    },
    {
      "cell_type": "markdown",
      "metadata": {
        "id": "8aCdgnIQQOIx",
        "colab_type": "text"
      },
      "source": [
        "#Network analysis\n",
        "Create network, a bipartite graph between users and recipes\n",
        "\n",
        "The users are the vertices U and the recipes are the vertices V and there is an edge from u to v if u reviewed v. In this case the edges are weighted by the rating the users gave."
      ]
    },
    {
      "cell_type": "code",
      "metadata": {
        "id": "ckbrQmUsBgfh",
        "colab_type": "code",
        "outputId": "6c640e31-6b9a-45d4-a840-9df8ea4689de",
        "colab": {
          "base_uri": "https://localhost:8080/",
          "height": 374
        }
      },
      "source": [
        "#have a look at types in df\n",
        "print('log out types in dataframe interaction')\n",
        "print(df_int.dtypes)\n",
        "\n",
        "print('log out types in dataframe recipe')\n",
        "print(df_rep.dtypes)"
      ],
      "execution_count": 8,
      "outputs": [
        {
          "output_type": "stream",
          "text": [
            "log out types in dataframe interaction\n",
            "user_id               int64\n",
            "recipe_id             int64\n",
            "date         datetime64[ns]\n",
            "rating                int64\n",
            "review               object\n",
            "w                   float64\n",
            "dtype: object\n",
            "log out types in dataframe recipe\n",
            "name                      object\n",
            "minutes                    int64\n",
            "contributor_id             int64\n",
            "submitted         datetime64[ns]\n",
            "tags                      object\n",
            "nutrition                 object\n",
            "n_steps                    int64\n",
            "steps                     object\n",
            "description               object\n",
            "ingredients               object\n",
            "n_ingredients              int64\n",
            "dtype: object\n"
          ],
          "name": "stdout"
        }
      ]
    },
    {
      "cell_type": "markdown",
      "metadata": {
        "id": "HzdbKn3yUtLB",
        "colab_type": "text"
      },
      "source": [
        "Next, we create **bipartite graph** between users and recipe.\n",
        "\n",
        "A network compromises of nodes and edges, the nodes representing the elements of the system while the edges are the relationship between them. \n",
        "For a bipartite graph( B = (U, V, E)) the nodes are partitioned into two sets. The nodes in one set cannot be connected to each other, they can only be connected to the nodes in the other set\n",
        "\n",
        "If each edge in graph G has an associated\n",
        "weight, the graph G is called a weighted bipartite graph."
      ]
    },
    {
      "cell_type": "code",
      "metadata": {
        "id": "LFbVrNzwGzAc",
        "colab_type": "code",
        "colab": {}
      },
      "source": [
        "#Instantiating an empty directed graph. This will create a new Graph object, G, with nothing in it. Now we can add lists of nodes and edges.\n",
        "G = nx.Graph()\n",
        "G.add_nodes_from(df_int['recipe_id'], bipartite=1)\n",
        "#set node attributes\n",
        "nx.set_node_attributes(G, df_rep['nutrition'].to_dict(), 'nutrition')\n",
        "nx.set_node_attributes(G, df_rep['n_steps'].to_dict(), 'n_steps')\n",
        "nx.set_node_attributes(G, df_rep['minutes'].to_dict(), 'minutes')\n",
        "nx.set_node_attributes(G, df_rep['tags'].to_dict(), 'tags')\n",
        "\n",
        "G.add_nodes_from(df_int['user_id'], bipartite=0)\n",
        "G.add_weighted_edges_from([(row['user_id'], row['recipe_id'], row['w']) for idx, row in df_int.iterrows()], weight='weight')"
      ],
      "execution_count": 0,
      "outputs": []
    },
    {
      "cell_type": "code",
      "metadata": {
        "id": "QfY8m52VHDmW",
        "colab_type": "code",
        "outputId": "3171e93d-7760-4423-81c2-314a68b7c836",
        "colab": {
          "base_uri": "https://localhost:8080/",
          "height": 54
        }
      },
      "source": [
        "#have a look at the edges\n",
        "print(list(G.edges(data=True))[:5])"
      ],
      "execution_count": 10,
      "outputs": [
        {
          "output_type": "stream",
          "text": [
            "[(195977, 2000551249, {'weight': 1.0}), (195977, 2002265401, {'weight': 0.4}), (195977, 2001205226, {'weight': 1.0}), (373842, 615758, {'weight': 1.0}), (217012, 246482, {'weight': 0.8})]\n"
          ],
          "name": "stdout"
        }
      ]
    },
    {
      "cell_type": "code",
      "metadata": {
        "id": "CkaKtRPEIwWw",
        "colab_type": "code",
        "outputId": "56428d72-5058-4c55-b502-8aef3b3807ff",
        "colab": {
          "base_uri": "https://localhost:8080/",
          "height": 85
        }
      },
      "source": [
        "# print some stats\n",
        "numberOfNodes = G.number_of_nodes()\n",
        "numberOfNodesInB0 = sum([1 for n in G.nodes(data=True) if n[1]['bipartite'] == 0])\n",
        "numberOfNodesInB1 = sum([1 for n in G.nodes(data=True) if n[1]['bipartite'] == 1])\n",
        "    \n",
        "print('number of nodes: ', numberOfNodes)\n",
        "print('number of nodes in B0: ', numberOfNodesInB0)\n",
        "print('number of nodes in B1: ', numberOfNodesInB1)\n",
        "print('number of edges: ', G.number_of_edges())\n",
        "\n",
        "\t"
      ],
      "execution_count": 11,
      "outputs": [
        {
          "output_type": "stream",
          "text": [
            "number of nodes:  13916\n",
            "number of nodes in B0:  7879\n",
            "number of nodes in B1:  6037\n",
            "number of edges:  9424\n"
          ],
          "name": "stdout"
        }
      ]
    },
    {
      "cell_type": "code",
      "metadata": {
        "id": "Lde3TXjaqnJp",
        "colab_type": "code",
        "colab": {}
      },
      "source": [
        "#create the user nodes partition and the recipe nodes one\n",
        "user_nodes = {n for n, d in G.nodes(data=True) if d['bipartite'] == 0}\n",
        "recipe_nodes = {n for n, d in G.nodes(data=True) if d['bipartite'] == 1}"
      ],
      "execution_count": 0,
      "outputs": []
    },
    {
      "cell_type": "markdown",
      "metadata": {
        "id": "1I8EZMLlWWKg",
        "colab_type": "text"
      },
      "source": [
        "A bipartite projection of a graph returns a graph containing only the nodes that belong to the user’s partition and edges between them.\n",
        "\n",
        "The weighted projected graph is the projection of the bipartite network onto the specified nodes and the weights are the number of shared neighbors."
      ]
    },
    {
      "cell_type": "code",
      "metadata": {
        "id": "R_umZTCyf1pA",
        "colab_type": "code",
        "colab": {}
      },
      "source": [
        "#Create the user nodes projection as a graph using a weighted projection\n",
        "user_graph = bipartite.weighted_projected_graph(G, user_nodes)"
      ],
      "execution_count": 0,
      "outputs": []
    },
    {
      "cell_type": "markdown",
      "metadata": {
        "id": "PTmNrv8xbRZ9",
        "colab_type": "text"
      },
      "source": [
        "Next we will compute the partition of the graph nodes where the modularity is maximized using the Louvain heuristices. This is the partition of highest modularity, i.e. the highest partition of the dendrogram generated by the Louvain algorithm."
      ]
    },
    {
      "cell_type": "code",
      "metadata": {
        "id": "_uTP55QMiLdF",
        "colab_type": "code",
        "colab": {}
      },
      "source": [
        "#implement community detection\n",
        "user_communities = community.best_partition(user_graph, resolution = 1)\n",
        "nx.set_node_attributes(user_graph, user_communities, 'usercommunity')"
      ],
      "execution_count": 0,
      "outputs": []
    },
    {
      "cell_type": "code",
      "metadata": {
        "id": "cdNNmuSYiKL6",
        "colab_type": "code",
        "colab": {}
      },
      "source": [
        "#Calculate eigenvector centrality and set it as an attribute\n",
        "user_eigenvector = nx.eigenvector_centrality(user_graph)\n",
        "nx.set_node_attributes(user_graph, user_eigenvector, 'eigenvector_centrality')"
      ],
      "execution_count": 0,
      "outputs": []
    },
    {
      "cell_type": "code",
      "metadata": {
        "id": "i9h7fp2-j8a4",
        "colab_type": "code",
        "outputId": "cf08dc17-7a97-453a-e199-d7b5fa706d01",
        "colab": {
          "base_uri": "https://localhost:8080/",
          "height": 34
        }
      },
      "source": [
        "# Create a new attribute \"activity\" to see how active a user posts reviews about recipes\n",
        "nx.set_node_attributes(user_graph, dict(df_int.user_id.value_counts()), 'activity')\n",
        "removeNodes = set()\n",
        "for n, d in user_graph.nodes(data=True):\n",
        "  if 'activity' not in d:\n",
        "    removeNodes.add(n)\n",
        "for n in removeNodes:\n",
        "  user_graph.remove_node(n)\n",
        "print('Number of nodes:', user_graph.number_of_nodes())\n"
      ],
      "execution_count": 16,
      "outputs": [
        {
          "output_type": "stream",
          "text": [
            "Number of nodes: 7879\n"
          ],
          "name": "stdout"
        }
      ]
    },
    {
      "cell_type": "markdown",
      "metadata": {
        "id": "48LQI8tAdIkV",
        "colab_type": "text"
      },
      "source": [
        "**Assortativity** measures the similarity of connections in the graph with respect to the number of neighbors the node has"
      ]
    },
    {
      "cell_type": "code",
      "metadata": {
        "id": "oc_IhWphFjQB",
        "colab_type": "code",
        "outputId": "3b03a517-cf34-469c-95a8-a9c84137d680",
        "colab": {
          "base_uri": "https://localhost:8080/",
          "height": 34
        }
      },
      "source": [
        "print('Assortativity coefficient:', nx.numeric_assortativity_coefficient(user_graph,'activity'))"
      ],
      "execution_count": 17,
      "outputs": [
        {
          "output_type": "stream",
          "text": [
            "Assortativity coefficient: 0.3455518109365992\n"
          ],
          "name": "stdout"
        }
      ]
    },
    {
      "cell_type": "code",
      "metadata": {
        "id": "goyPuAgw8smH",
        "colab_type": "code",
        "outputId": "cbe720e1-b1d3-4c5b-ce43-9ea484a32c1a",
        "colab": {
          "base_uri": "https://localhost:8080/",
          "height": 204
        }
      },
      "source": [
        "#Let's see the result\n",
        "graph_proj_df = pd.DataFrame(dict(user_graph.nodes(data=True))).T\n",
        "graph_proj_df.usercommunity.value_counts(normalize=True)\n",
        "graph_proj_df.head()"
      ],
      "execution_count": 18,
      "outputs": [
        {
          "output_type": "execute_result",
          "data": {
            "text/html": [
              "<div>\n",
              "<style scoped>\n",
              "    .dataframe tbody tr th:only-of-type {\n",
              "        vertical-align: middle;\n",
              "    }\n",
              "\n",
              "    .dataframe tbody tr th {\n",
              "        vertical-align: top;\n",
              "    }\n",
              "\n",
              "    .dataframe thead th {\n",
              "        text-align: right;\n",
              "    }\n",
              "</style>\n",
              "<table border=\"1\" class=\"dataframe\">\n",
              "  <thead>\n",
              "    <tr style=\"text-align: right;\">\n",
              "      <th></th>\n",
              "      <th>bipartite</th>\n",
              "      <th>usercommunity</th>\n",
              "      <th>eigenvector_centrality</th>\n",
              "      <th>activity</th>\n",
              "    </tr>\n",
              "  </thead>\n",
              "  <tbody>\n",
              "    <tr>\n",
              "      <th>2002190344</th>\n",
              "      <td>0.0</td>\n",
              "      <td>0.0</td>\n",
              "      <td>4.744473e-19</td>\n",
              "      <td>1.0</td>\n",
              "    </tr>\n",
              "    <tr>\n",
              "      <th>1441804</th>\n",
              "      <td>0.0</td>\n",
              "      <td>1.0</td>\n",
              "      <td>4.744473e-19</td>\n",
              "      <td>1.0</td>\n",
              "    </tr>\n",
              "    <tr>\n",
              "      <th>2002157583</th>\n",
              "      <td>0.0</td>\n",
              "      <td>2.0</td>\n",
              "      <td>8.367860e-02</td>\n",
              "      <td>8.0</td>\n",
              "    </tr>\n",
              "    <tr>\n",
              "      <th>2002255891</th>\n",
              "      <td>0.0</td>\n",
              "      <td>3.0</td>\n",
              "      <td>7.968893e-13</td>\n",
              "      <td>1.0</td>\n",
              "    </tr>\n",
              "    <tr>\n",
              "      <th>2002190356</th>\n",
              "      <td>0.0</td>\n",
              "      <td>4.0</td>\n",
              "      <td>3.109338e-14</td>\n",
              "      <td>1.0</td>\n",
              "    </tr>\n",
              "  </tbody>\n",
              "</table>\n",
              "</div>"
            ],
            "text/plain": [
              "            bipartite  usercommunity  eigenvector_centrality  activity\n",
              "2002190344        0.0            0.0            4.744473e-19       1.0\n",
              "1441804           0.0            1.0            4.744473e-19       1.0\n",
              "2002157583        0.0            2.0            8.367860e-02       8.0\n",
              "2002255891        0.0            3.0            7.968893e-13       1.0\n",
              "2002190356        0.0            4.0            3.109338e-14       1.0"
            ]
          },
          "metadata": {
            "tags": []
          },
          "execution_count": 18
        }
      ]
    },
    {
      "cell_type": "markdown",
      "metadata": {
        "id": "pP0RDg2Wc23P",
        "colab_type": "text"
      },
      "source": [
        "Next is the Eigenvector Centrality, which decides that a node is important if it is connected to other important nodes. It computes the centrality for a node based on the centrality of its neighbors."
      ]
    },
    {
      "cell_type": "code",
      "metadata": {
        "id": "EJaSqxtuiHVD",
        "colab_type": "code",
        "outputId": "65fb098d-00a7-4418-ce04-2dd11a7d25f7",
        "colab": {
          "base_uri": "https://localhost:8080/",
          "height": 238
        }
      },
      "source": [
        "# Find the 5 most central for each identified community\n",
        "user_per_com = graph_proj_df.groupby('usercommunity')['eigenvector_centrality'].nlargest(5)\n",
        "user_per_com"
      ],
      "execution_count": 19,
      "outputs": [
        {
          "output_type": "execute_result",
          "data": {
            "text/plain": [
              "usercommunity            \n",
              "0.0            2002190344    4.744473e-19\n",
              "1.0            1441804       4.744473e-19\n",
              "2.0            2002216720    8.377065e-02\n",
              "               2000637026    8.371248e-02\n",
              "               2002188458    8.370697e-02\n",
              "                                 ...     \n",
              "4678.0         2818015       4.744473e-19\n",
              "4679.0         2002288613    4.744473e-19\n",
              "4680.0         2002288620    4.744473e-19\n",
              "4681.0         2002288621    4.744473e-19\n",
              "4682.0         2001829873    4.744473e-19\n",
              "Name: eigenvector_centrality, Length: 6458, dtype: float64"
            ]
          },
          "metadata": {
            "tags": []
          },
          "execution_count": 19
        }
      ]
    },
    {
      "cell_type": "markdown",
      "metadata": {
        "id": "KZhh3Ugvac-A",
        "colab_type": "text"
      },
      "source": [
        "**Degree centrality** represents the number of neighbors a node has divided by the numbers of neighbors it could possibly have. Nx.degree_centrality(G) returns a dictionary in which the key is the node and the value is the degree centrality score for that node. The degree of the node is the number of neighbors that it has. Degree centrality for bipartite graphs is the number of nodes in the opposite partition. This is why we have to pass in the list of nodes from one partition into the Networkx bipartite degree centrality function."
      ]
    },
    {
      "cell_type": "code",
      "metadata": {
        "id": "GRHZHi_PiFod",
        "colab_type": "code",
        "outputId": "c4075c74-4f29-4158-9715-6188ae3fc234",
        "colab": {
          "base_uri": "https://localhost:8080/",
          "height": 268
        }
      },
      "source": [
        "# Calculate the degree centrality using nx.degree_centrality: dcs and plot the graph\n",
        "dcs = nx.degree_centrality(user_graph)\n",
        "\n",
        "plt.hist(list(dcs.values()))\n",
        "plt.yscale('log')  \n",
        "plt.show()  "
      ],
      "execution_count": 20,
      "outputs": [
        {
          "output_type": "display_data",
          "data": {
            "image/png": "[encoded data removed]",
            "text/plain": [
              "<Figure size 432x288 with 1 Axes>"
            ]
          },
          "metadata": {
            "tags": []
          }
        }
      ]
    },
    {
      "cell_type": "code",
      "metadata": {
        "id": "7HLr-uM8n_0c",
        "colab_type": "code",
        "outputId": "573350d5-1c41-49ca-c25c-847bc738cce7",
        "colab": {
          "base_uri": "https://localhost:8080/",
          "height": 265
        }
      },
      "source": [
        "#Do the same\n",
        "nx.bipartite.degree_centrality(G, recipe_nodes) \n",
        "\n",
        "# Create the recipe nodes projection as a graph: G_recipe\n",
        "G_recipe = nx.bipartite.projected_graph(G, nodes=recipe_nodes)\n",
        "\n",
        "# Calculate the degree centrality using nx.degree_centrality: dcs\n",
        "dcs = nx.degree_centrality(G_recipe)\n",
        "plt.hist(list(dcs.values()))\n",
        "plt.yscale('log')  \n",
        "plt.show()\n"
      ],
      "execution_count": 21,
      "outputs": [
        {
          "output_type": "display_data",
          "data": {
            "image/png": "[encoded data removed]",
            "text/plain": [
              "<Figure size 432x288 with 1 Axes>"
            ]
          },
          "metadata": {
            "tags": []
          }
        }
      ]
    },
    {
      "cell_type": "markdown",
      "metadata": {
        "id": "AV7subkpaiOE",
        "colab_type": "text"
      },
      "source": [
        "**Betweenness centrality** represents the number of shortest paths through a node divided by all possible shortest paths. It captures bottleneck nodes in a graph rather than highly connected nodes."
      ]
    },
    {
      "cell_type": "code",
      "metadata": {
        "id": "gE8kJ3cuR4sx",
        "colab_type": "code",
        "outputId": "da635397-026b-4b9f-ee0f-a9d7a2f9bd8b",
        "colab": {
          "base_uri": "https://localhost:8080/",
          "height": 34
        }
      },
      "source": [
        "print(sorted(nx.betweenness_centrality(user_graph).items(), key=lambda x: x[1], reverse=True)[:2])"
      ],
      "execution_count": 22,
      "outputs": [
        {
          "output_type": "stream",
          "text": [
            "[(2123645, 0.004022114401750812), (2002295280, 0.004017610333215215)]\n"
          ],
          "name": "stdout"
        }
      ]
    }
  ]
}